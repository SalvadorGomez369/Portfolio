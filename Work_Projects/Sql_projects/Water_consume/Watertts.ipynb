{
 "cells": [
  {
   "attachments": {},
   "cell_type": "markdown",
   "metadata": {},
   "source": [
    "the problem is:\n",
    "I consume to many water or i dont consume enough\n",
    "\n",
    "how to solve it?\n",
    "colect the data of consuming water\n",
    "\n",
    "What factors afects the result?\n",
    "01.-Amount of water\n",
    "02.-Time\n",
    "03.-date \n",
    "04.-Activity (1 = normal activity),(2 = moderate activity) and (3 = hard activity)\n",
    "\n",
    "250ml,10:00,4/1/2023"
   ]
  },
  {
   "cell_type": "markdown",
   "metadata": {},
   "source": [
    "---------------------------"
   ]
  },
  {
   "attachments": {},
   "cell_type": "markdown",
   "metadata": {},
   "source": [
    "Send actyvity to a sqlite database"
   ]
  },
  {
   "attachments": {},
   "cell_type": "markdown",
   "metadata": {},
   "source": [
    "actyvity"
   ]
  },
  {
   "cell_type": "code",
   "execution_count": null,
   "metadata": {},
   "outputs": [],
   "source": [
    "import sqlite3\n",
    "import datetime\n",
    "\n",
    "# Connect to the database\n",
    "conn = sqlite3.connect('datetime.db')\n",
    "\n",
    "# Create a table to store the date and time without water consumption\n",
    "conn.execute('''CREATE TABLE IF NOT EXISTS datetime_activity\n",
    "             (id INTEGER PRIMARY KEY AUTOINCREMENT,\n",
    "             day TEXT NOT NULL,\n",
    "             time TEXT NOT NULL,\n",
    "             activity INTEGER NOT NULL);''')\n",
    "\n",
    "# Set the water consumption value\n",
    "activity = 1\n",
    "\n",
    "# Get the current date and time\n",
    "now = datetime.datetime.now()\n",
    "\n",
    "# Extract the date and time components\n",
    "day = now.strftime(\"%Y-%m-%d\")\n",
    "time = now.strftime(\"%H:%M\")\n",
    "\n",
    "# Insert the current date and time into the 'datetime_lite' table\n",
    "conn.execute(\"INSERT INTO datetime_activity (day, time, activity) VALUES (?, ?, ?)\", (day, time, activity))\n",
    "\n",
    "# Commit the changes and close the database connection\n",
    "conn.commit()\n",
    "conn.close()"
   ]
  },
  {
   "cell_type": "markdown",
   "metadata": {},
   "source": [
    "---------------------------"
   ]
  },
  {
   "attachments": {},
   "cell_type": "markdown",
   "metadata": {},
   "source": [
    "Send water consume to a sqlite database"
   ]
  },
  {
   "attachments": {},
   "cell_type": "markdown",
   "metadata": {},
   "source": [
    "water consume"
   ]
  },
  {
   "cell_type": "code",
   "execution_count": 2,
   "metadata": {},
   "outputs": [],
   "source": [
    "import sqlite3\n",
    "import datetime\n",
    "\n",
    "# Connect to the database\n",
    "conn = sqlite3.connect('datetime.db')\n",
    "\n",
    "# Create a table to store the date and time with water consumption\n",
    "conn.execute('''CREATE TABLE IF NOT EXISTS datetime_water\n",
    "             (id INTEGER PRIMARY KEY AUTOINCREMENT,\n",
    "             day TEXT NOT NULL,\n",
    "             time TEXT NOT NULL,\n",
    "             water_consume INTEGER NOT NULL);''')\n",
    "\n",
    "# Set the water consumption value\n",
    "water = 300\n",
    "\n",
    "# Get the current date and time\n",
    "now = datetime.datetime.now()\n",
    "\n",
    "# Extract the date and time components\n",
    "day = now.strftime(\"%Y-%m-%d\")\n",
    "time = now.strftime(\"%H:%M\")\n",
    "\n",
    "# Insert the current date, time, and water consumption into the 'datetime' table\n",
    "conn.execute(\"INSERT INTO datetime_water (day, time, water_consume) VALUES (?, ?, ?)\", (day, time, water))\n",
    "\n",
    "# Commit the changes and close the database connection\n",
    "conn.commit()\n",
    "conn.close()\n",
    "\n"
   ]
  },
  {
   "cell_type": "markdown",
   "metadata": {},
   "source": [
    "---------------------------"
   ]
  },
  {
   "attachments": {},
   "cell_type": "markdown",
   "metadata": {},
   "source": [
    "Send when i eat to a sqlite database"
   ]
  },
  {
   "attachments": {},
   "cell_type": "markdown",
   "metadata": {},
   "source": [
    "Food consume"
   ]
  },
  {
   "cell_type": "code",
   "execution_count": 1,
   "metadata": {},
   "outputs": [],
   "source": [
    "import sqlite3\n",
    "import datetime\n",
    "\n",
    "# Connect to the database\n",
    "conn = sqlite3.connect('datetime.db')\n",
    "\n",
    "# Create a table to store the date and time without water consumption\n",
    "conn.execute('''CREATE TABLE IF NOT EXISTS datetime_food\n",
    "             (id INTEGER PRIMARY KEY AUTOINCREMENT,\n",
    "             day TEXT NOT NULL,\n",
    "             time TEXT NOT NULL);''')\n",
    "\n",
    "# Get the current date and time\n",
    "now = datetime.datetime.now()\n",
    "\n",
    "# Extract the date and time components\n",
    "day = now.strftime(\"%Y-%m-%d\")\n",
    "time = now.strftime(\"%H:%M\")\n",
    "\n",
    "# Insert the current date and time into the 'datetime_lite' table\n",
    "conn.execute(\"INSERT INTO datetime_food (day, time) VALUES (?, ?)\", (day, time))\n",
    "\n",
    "# Commit the changes and close the database connection\n",
    "conn.commit()\n",
    "conn.close()"
   ]
  },
  {
   "cell_type": "markdown",
   "metadata": {},
   "source": [
    "---------------------------"
   ]
  },
  {
   "attachments": {},
   "cell_type": "markdown",
   "metadata": {},
   "source": [
    "Send when i eject oee to a sqlite database"
   ]
  },
  {
   "attachments": {},
   "cell_type": "markdown",
   "metadata": {},
   "source": [
    "eject"
   ]
  },
  {
   "cell_type": "code",
   "execution_count": null,
   "metadata": {},
   "outputs": [],
   "source": [
    "import sqlite3\n",
    "import datetime\n",
    "\n",
    "# Connect to the database\n",
    "conn = sqlite3.connect('datetime.db')\n",
    "\n",
    "# Create a table to store the date and time without water consumption\n",
    "conn.execute('''CREATE TABLE IF NOT EXISTS datetime_eject\n",
    "             (id INTEGER PRIMARY KEY AUTOINCREMENT,\n",
    "             day TEXT NOT NULL,\n",
    "             time TEXT NOT NULL);''')\n",
    "\n",
    "# Get the current date and time\n",
    "now = datetime.datetime.now()\n",
    "\n",
    "# Extract the date and time components\n",
    "day = now.strftime(\"%Y-%m-%d\")\n",
    "time = now.strftime(\"%H:%M\")\n",
    "\n",
    "# Insert the current date and time into the 'datetime_lite' table\n",
    "conn.execute(\"INSERT INTO datetime_eject (day, time) VALUES (?, ?)\", (day, time))\n",
    "\n",
    "# Commit the changes and close the database connection\n",
    "conn.commit()\n",
    "conn.close()"
   ]
  },
  {
   "cell_type": "markdown",
   "metadata": {},
   "source": [
    "---------------------------"
   ]
  },
  {
   "attachments": {},
   "cell_type": "markdown",
   "metadata": {},
   "source": [
    "Send when i eject poop to a sqlite database"
   ]
  },
  {
   "attachments": {},
   "cell_type": "markdown",
   "metadata": {},
   "source": [
    "eject 2"
   ]
  },
  {
   "cell_type": "code",
   "execution_count": null,
   "metadata": {},
   "outputs": [],
   "source": [
    "import sqlite3\n",
    "import datetime\n",
    "\n",
    "# Connect to the database\n",
    "conn = sqlite3.connect('datetime.db')\n",
    "\n",
    "# Create a table to store the date and time without water consumption\n",
    "conn.execute('''CREATE TABLE IF NOT EXISTS datetime_eject_2\n",
    "             (id INTEGER PRIMARY KEY AUTOINCREMENT,\n",
    "             day TEXT NOT NULL,\n",
    "             time TEXT NOT NULL);''')\n",
    "\n",
    "# Get the current date and time\n",
    "now = datetime.datetime.now()\n",
    "\n",
    "# Extract the date and time components\n",
    "day = now.strftime(\"%Y-%m-%d\")\n",
    "time = now.strftime(\"%H:%M\")\n",
    "\n",
    "# Insert the current date and time into the 'datetime_lite' table\n",
    "conn.execute(\"INSERT INTO datetime_eject_2 (day, time) VALUES (?, ?)\", (day, time))\n",
    "\n",
    "# Commit the changes and close the database connection\n",
    "conn.commit()\n",
    "conn.close()"
   ]
  },
  {
   "cell_type": "markdown",
   "metadata": {},
   "source": [
    "---------------------------"
   ]
  },
  {
   "attachments": {},
   "cell_type": "markdown",
   "metadata": {},
   "source": [
    "Delete row from db"
   ]
  },
  {
   "cell_type": "code",
   "execution_count": null,
   "metadata": {},
   "outputs": [],
   "source": [
    "import sqlite3\n",
    "\n",
    "# Establish a connection to the database\n",
    "conn = sqlite3.connect('datetime.db')\n",
    "\n",
    "# Create a cursor object\n",
    "cursor = conn.cursor()\n",
    "\n",
    "# Execute the SQL query to delete the row with the specified ID\n",
    "row_id = 2 # Replace 1 with the ID of the row you want to delete\n",
    "cursor.execute('DELETE FROM datetime_eject WHERE id = ?', (row_id,))\n",
    "\n",
    "# Commit the changes to the database\n",
    "conn.commit()\n",
    "\n",
    "# Close the database connection\n",
    "conn.close()\n"
   ]
  },
  {
   "cell_type": "markdown",
   "metadata": {},
   "source": [
    "---------------------------"
   ]
  },
  {
   "attachments": {},
   "cell_type": "markdown",
   "metadata": {},
   "source": [
    "Rename a table from db"
   ]
  },
  {
   "cell_type": "code",
   "execution_count": null,
   "metadata": {},
   "outputs": [],
   "source": [
    "import sqlite3\n",
    "\n",
    "# Connect to the database\n",
    "conn = sqlite3.connect('datetime.db')\n",
    "\n",
    "# Get a cursor object\n",
    "cursor = conn.cursor()\n",
    "\n",
    "# Rename the 'table datetime_consume' to 'datetime_water'\n",
    "cursor.execute(\"ALTER TABLE datetime_consume RENAME TO datetime_water\")\n",
    "\n",
    "# Commit the changes\n",
    "conn.commit()\n",
    "\n",
    "# Close the cursor and connection\n",
    "cursor.close()\n",
    "conn.close()\n"
   ]
  },
  {
   "attachments": {},
   "cell_type": "markdown",
   "metadata": {},
   "source": [
    "Drop a table"
   ]
  },
  {
   "cell_type": "code",
   "execution_count": null,
   "metadata": {},
   "outputs": [],
   "source": [
    "import sqlite3\n",
    "\n",
    "#Connecting to sqlite\n",
    "conn = sqlite3.connect('datetime.db')\n",
    "\n",
    "#Creating a cursor object using the cursor() method\n",
    "cursor = conn.cursor()\n",
    "\n",
    "#Doping EMPLOYEE table if already exists\n",
    "cursor.execute(\"DROP TABLE datetime_consume\")\n",
    "print(\"Table dropped... \")\n",
    "\n",
    "#Commit your changes in the database\n",
    "conn.commit()\n",
    "\n",
    "#Closing the connection\n",
    "conn.close()"
   ]
  }
 ],
 "metadata": {
  "kernelspec": {
   "display_name": "Python 3",
   "language": "python",
   "name": "python3"
  },
  "language_info": {
   "codemirror_mode": {
    "name": "ipython",
    "version": 3
   },
   "file_extension": ".py",
   "mimetype": "text/x-python",
   "name": "python",
   "nbconvert_exporter": "python",
   "pygments_lexer": "ipython3",
   "version": "3.11.2"
  },
  "orig_nbformat": 4
 },
 "nbformat": 4,
 "nbformat_minor": 2
}
